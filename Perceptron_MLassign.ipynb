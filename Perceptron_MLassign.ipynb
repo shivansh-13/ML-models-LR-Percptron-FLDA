{
 "cells": [
  {
   "cell_type": "code",
   "execution_count": 44,
   "id": "be9ca615",
   "metadata": {},
   "outputs": [],
   "source": [
    "import numpy as np\n",
    "import pandas as pd\n",
    "import math"
   ]
  },
  {
   "cell_type": "code",
   "execution_count": 45,
   "id": "8f05d343",
   "metadata": {},
   "outputs": [],
   "source": [
    "dataset = pd.read_csv(\"Dsata Set for Assignment 1.csv\")\n",
    "dataset.shape\n",
    "def normalise(data):\n",
    "    # copy the dataframe\n",
    "    data_std = data.copy()\n",
    "    # apply the z-score method\n",
    "    for column in data.loc[:, ~data.columns.isin(['id', 'diagnosis'])]:\n",
    "        data_std[column] = (data_std[column] - data_std[column].mean()) / data_std[column].std()\n",
    "        \n",
    "    return data_std\n",
    "dataset_norm = normalise(dataset)\n"
   ]
  },
  {
   "cell_type": "code",
   "execution_count": 46,
   "id": "13a7fedc",
   "metadata": {},
   "outputs": [],
   "source": [
    "# utility functions \n",
    "def conv(Y):\n",
    "    count =0\n",
    "    y = np.array(np.zeros(Y.shape[0]))\n",
    "    for elem in Y.T:\n",
    "        if elem == 'M':\n",
    "            y[count] = 1\n",
    "        else:\n",
    "            y[count] = 0\n",
    "        count= count +1\n",
    "    return y.T\n",
    "def accuracycalc(Y,Y_test):\n",
    "    count=0\n",
    "    for elem in range(Y.shape[0]):\n",
    "        if Y[elem] ==Y_test[elem]:\n",
    "            count = count+1\n",
    "    temp = (count / Y.shape[0])* 100\n",
    "    \n",
    "    return  temp\n",
    "def iteration_print(X):\n",
    "    for i in range(len(X)):\n",
    "        print(\"Accuracy of split-\" , i) \n",
    "        print(X[i])"
   ]
  },
  {
   "cell_type": "code",
   "execution_count": 47,
   "id": "bc711325",
   "metadata": {},
   "outputs": [
    {
     "name": "stdout",
     "output_type": "stream",
     "text": [
      "Shape of X: (569, 30)\n"
     ]
    },
    {
     "name": "stderr",
     "output_type": "stream",
     "text": [
      "C:\\Users\\akula\\AppData\\Local\\Temp/ipykernel_22024/3730766490.py:1: FutureWarning: In a future version of pandas all arguments of DataFrame.drop except for the argument 'labels' will be keyword-only\n",
      "  X = np.array(dataset.drop([\"diagnosis\"],1))\n"
     ]
    }
   ],
   "source": [
    "X = np.array(dataset.drop([\"diagnosis\"],1))\n",
    "X = np.delete(X,0,1)\n",
    "print(\"Shape of X:\",X.shape)\n"
   ]
  },
  {
   "cell_type": "code",
   "execution_count": 48,
   "id": "274ee86c",
   "metadata": {},
   "outputs": [
    {
     "name": "stdout",
     "output_type": "stream",
     "text": [
      "Shape of Y1: (569,)\n"
     ]
    }
   ],
   "source": [
    "Y1 = np.array(dataset[\"diagnosis\"])\n",
    "\n",
    "print(\"Shape of Y1:\",Y1.shape)\n",
    "\n"
   ]
  },
  {
   "cell_type": "code",
   "execution_count": 49,
   "id": "5404a8d5",
   "metadata": {},
   "outputs": [],
   "source": [
    "Y = np.array(conv(Y1))\n"
   ]
  },
  {
   "cell_type": "code",
   "execution_count": 50,
   "id": "0e98a009",
   "metadata": {},
   "outputs": [
    {
     "name": "stdout",
     "output_type": "stream",
     "text": [
      "Total Number of rows in train: 381\n",
      "Total Number of rows in test: 188\n"
     ]
    }
   ],
   "source": [
    "split_factor = 0.67\n",
    "n_train = math.floor(split_factor * X.shape[0])\n",
    "n_test = math.ceil(split_factor* X.shape[0])\n",
    "X_train = X[:n_train]\n",
    "Y_train = Y[:n_train]\n",
    "X_test = X[n_train:]\n",
    "Y_test = Y[n_train:]\n",
    "print(\"Total Number of rows in train:\",X_train.shape[0])\n",
    "print(\"Total Number of rows in test:\",X_test.shape[0])\n"
   ]
  },
  {
   "cell_type": "markdown",
   "id": "083b9d88",
   "metadata": {},
   "source": [
    "# Implementing Perceptron Algorithm "
   ]
  },
  {
   "cell_type": "code",
   "execution_count": 51,
   "id": "3b3b8261",
   "metadata": {},
   "outputs": [],
   "source": [
    "\n",
    "class Perceptron:\n",
    "\n",
    "    def __init__(self, learning_rate=0.01, epochs=1000):\n",
    "        self.lr = learning_rate\n",
    "        self.itr = epochs\n",
    "        self.activation_fn = self.step\n",
    "        self.weights = None\n",
    "        self.bias = None\n",
    "\n",
    "    def fit(self, X, y):\n",
    "        n_samples, n_features = X.shape\n",
    "\n",
    "        # init parameters\n",
    "        self.weights = np.zeros(n_features)\n",
    "        self.bias = 0\n",
    "\n",
    "        y1 = y\n",
    "\n",
    "        for it in range(self.itr):\n",
    "\n",
    "            for xid, x_i in enumerate(X):\n",
    "\n",
    "                value = np.dot(x_i, self.weights) + self.bias\n",
    "                y_predicted = self.activation_fn(value)\n",
    "\n",
    "                # Perceptron update rule\n",
    "                update = self.lr * (y1[xid] - y_predicted)\n",
    "\n",
    "                self.weights += update * x_i\n",
    "                self.bias += update\n",
    "\n",
    "    def predict(self, X):\n",
    "        value = np.dot(X, self.weights) + self.bias\n",
    "        y_predicted = self.activation_fn(value)\n",
    "        return y_predicted\n",
    "\n",
    "    def step(self, x):\n",
    "        return np.where(x>=0, 1, 0)"
   ]
  },
  {
   "cell_type": "markdown",
   "id": "81b0aaae",
   "metadata": {},
   "source": [
    "# PM1"
   ]
  },
  {
   "cell_type": "code",
   "execution_count": 52,
   "id": "bc93b9a5",
   "metadata": {},
   "outputs": [
    {
     "data": {
      "text/plain": [
       "84.04255319148936"
      ]
     },
     "execution_count": 52,
     "metadata": {},
     "output_type": "execute_result"
    }
   ],
   "source": [
    "PM1 =Perceptron(1000)\n",
    "PM1.fit(X_train,Y_train)\n",
    "pred_PM1 = PM1.predict(X_test)\n",
    "score = accuracycalc(pred_PM1,Y_test)\n",
    "score"
   ]
  },
  {
   "cell_type": "code",
   "execution_count": 53,
   "id": "0ebca6de",
   "metadata": {},
   "outputs": [
    {
     "name": "stdout",
     "output_type": "stream",
     "text": [
      "it  =  1\n",
      "Total Number of rows in train: 227\n",
      "Total Number of rows in test: 342\n",
      "it  =  2\n",
      "Total Number of rows in train: 256\n",
      "Total Number of rows in test: 313\n",
      "it  =  3\n",
      "Total Number of rows in train: 284\n",
      "Total Number of rows in test: 285\n",
      "it  =  4\n",
      "Total Number of rows in train: 312\n",
      "Total Number of rows in test: 257\n",
      "it  =  5\n",
      "Total Number of rows in train: 341\n",
      "Total Number of rows in test: 228\n",
      "it  =  6\n",
      "Total Number of rows in train: 369\n",
      "Total Number of rows in test: 200\n",
      "it  =  7\n",
      "Total Number of rows in train: 381\n",
      "Total Number of rows in test: 188\n",
      "it  =  8\n",
      "Total Number of rows in train: 398\n",
      "Total Number of rows in test: 171\n",
      "it  =  9\n",
      "Total Number of rows in train: 426\n",
      "Total Number of rows in test: 143\n",
      "it  =  10\n",
      "Total Number of rows in train: 455\n",
      "Total Number of rows in test: 114\n",
      "Accuracy of split- 0\n",
      "92.10526315789474\n",
      "Accuracy of split- 1\n",
      "79.87220447284345\n",
      "Accuracy of split- 2\n",
      "77.54385964912281\n",
      "Accuracy of split- 3\n",
      "94.94163424124513\n",
      "Accuracy of split- 4\n",
      "93.85964912280701\n",
      "Accuracy of split- 5\n",
      "89.0\n",
      "Accuracy of split- 6\n",
      "84.04255319148936\n",
      "Accuracy of split- 7\n",
      "94.73684210526315\n",
      "Accuracy of split- 8\n",
      "93.7062937062937\n",
      "Accuracy of split- 9\n",
      "93.85964912280701\n"
     ]
    }
   ],
   "source": [
    "iteration_PM1 = []\n",
    "count =1\n",
    "for split_factor in [0.4,0.45,0.5,0.55,0.6,0.65,0.67,0.7,0.75,0.8]:\n",
    "    n_train = math.floor(split_factor * X.shape[0])\n",
    "    n_test = math.ceil(split_factor* X.shape[0])\n",
    "    X_train = X[:n_train]\n",
    "    Y_train = Y[:n_train]\n",
    "    X_test = X[n_train:]\n",
    "    Y_test = Y[n_train:]\n",
    "    print(\"it  = \", count)\n",
    "    print(\"Total Number of rows in train:\",X_train.shape[0])\n",
    "    print(\"Total Number of rows in test:\",X_test.shape[0])\n",
    "    PM1 =Perceptron(1000)\n",
    "    PM1.fit(X_train,Y_train)\n",
    "    pred_PM1 = PM1.predict(X_test)\n",
    "    score = accuracycalc(pred_PM1,Y_test)\n",
    "    iteration_PM1.append(score)\n",
    "    count =count +1\n",
    "\n",
    "iteration_print(iteration_PM1)"
   ]
  },
  {
   "cell_type": "code",
   "execution_count": 54,
   "id": "945c4142",
   "metadata": {},
   "outputs": [
    {
     "name": "stdout",
     "output_type": "stream",
     "text": [
      "Total Number of rows in train: 381\n",
      "Total Number of rows in test: 188\n"
     ]
    },
    {
     "name": "stderr",
     "output_type": "stream",
     "text": [
      "C:\\Users\\akula\\AppData\\Local\\Temp/ipykernel_22024/3440798347.py:2: FutureWarning: In a future version of pandas all arguments of DataFrame.drop except for the argument 'labels' will be keyword-only\n",
      "  X_random = np.array(dataset_random.drop([\"diagnosis\"],1))\n"
     ]
    }
   ],
   "source": [
    "dataset_random=dataset.sample(frac=1, axis=0).reset_index(drop=True)\n",
    "X_random = np.array(dataset_random.drop([\"diagnosis\"],1))\n",
    "X_random = np.delete(X_random,0,1)\n",
    "Y1_random  = np.array(dataset_random[\"diagnosis\"])\n",
    "Y_random = np.array(conv(Y1_random))\n",
    "split_factor = 0.67\n",
    "n_train = math.floor(split_factor * X_random.shape[0])\n",
    "n_test = math.ceil(split_factor* X_random.shape[0])\n",
    "X_train_random  = X_random [:n_train]\n",
    "Y_train_random  = Y_random [:n_train]\n",
    "X_test_random  = X_random [n_train:]\n",
    "Y_test_random  = Y_random [n_train:]\n",
    "print(\"Total Number of rows in train:\",X_train_random.shape[0])\n",
    "print(\"Total Number of rows in test:\",X_test_random.shape[0])\n",
    "\n"
   ]
  },
  {
   "cell_type": "markdown",
   "id": "cc6c2b44",
   "metadata": {},
   "source": [
    "# PM2"
   ]
  },
  {
   "cell_type": "code",
   "execution_count": 55,
   "id": "e1304626",
   "metadata": {},
   "outputs": [
    {
     "data": {
      "text/plain": [
       "57.97872340425532"
      ]
     },
     "execution_count": 55,
     "metadata": {},
     "output_type": "execute_result"
    }
   ],
   "source": [
    "PM2 =Perceptron(1000)\n",
    "PM2.fit(X_train_random,Y_train_random)\n",
    "pred_PM2 = PM2.predict(X_test_random)\n",
    "score = accuracycalc(pred_PM2,Y_test_random)\n",
    "score"
   ]
  },
  {
   "cell_type": "code",
   "execution_count": 56,
   "id": "fe0ea33f",
   "metadata": {},
   "outputs": [
    {
     "name": "stdout",
     "output_type": "stream",
     "text": [
      "it  =  1\n",
      "Total Number of rows in train: 227\n",
      "Total Number of rows in test: 342\n",
      "it  =  2\n",
      "Total Number of rows in train: 256\n",
      "Total Number of rows in test: 313\n",
      "it  =  3\n",
      "Total Number of rows in train: 284\n",
      "Total Number of rows in test: 285\n",
      "it  =  4\n",
      "Total Number of rows in train: 312\n",
      "Total Number of rows in test: 257\n",
      "it  =  5\n",
      "Total Number of rows in train: 341\n",
      "Total Number of rows in test: 228\n",
      "it  =  6\n",
      "Total Number of rows in train: 369\n",
      "Total Number of rows in test: 200\n",
      "it  =  7\n",
      "Total Number of rows in train: 381\n",
      "Total Number of rows in test: 188\n",
      "it  =  8\n",
      "Total Number of rows in train: 398\n",
      "Total Number of rows in test: 171\n",
      "it  =  9\n",
      "Total Number of rows in train: 426\n",
      "Total Number of rows in test: 143\n",
      "it  =  10\n",
      "Total Number of rows in train: 455\n",
      "Total Number of rows in test: 114\n"
     ]
    },
    {
     "data": {
      "text/plain": [
       "[62.28070175438597,\n",
       " 62.30031948881789,\n",
       " 60.35087719298245,\n",
       " 60.70038910505836,\n",
       " 60.96491228070175,\n",
       " 58.5,\n",
       " 57.97872340425532,\n",
       " 55.55555555555556,\n",
       " 55.94405594405595,\n",
       " 59.64912280701754]"
      ]
     },
     "execution_count": 56,
     "metadata": {},
     "output_type": "execute_result"
    }
   ],
   "source": [
    "iteration_PM2 = []\n",
    "count = 1\n",
    "for split_factor in [0.4,0.45,0.5,0.55,0.6,0.65,0.67,0.7,0.75,0.8]:\n",
    "    n_train = math.floor(split_factor * X_random.shape[0])\n",
    "    n_test = math.ceil(split_factor* X_random.shape[0])\n",
    "    X_train_random  = X_random [:n_train]\n",
    "    Y_train_random  = Y_random [:n_train]\n",
    "    X_test_random  = X_random [n_train:]\n",
    "    Y_test_random  = Y_random [n_train:]\n",
    "    print(\"it  = \", count)\n",
    "    print(\"Total Number of rows in train:\",X_train_random.shape[0])\n",
    "    print(\"Total Number of rows in test:\",X_test_random.shape[0])\n",
    "    PM2 =Perceptron(1000)\n",
    "    PM2.fit(X_train_random,Y_train_random)\n",
    "    pred_PM2 = PM2.predict(X_test_random)\n",
    "    score = accuracycalc(pred_PM2,Y_test_random)\n",
    "    iteration_PM2.append(score)\n",
    "    count = count +1\n",
    "iteration_PM2"
   ]
  },
  {
   "cell_type": "code",
   "execution_count": 38,
   "id": "f2b55081",
   "metadata": {},
   "outputs": [
    {
     "name": "stdout",
     "output_type": "stream",
     "text": [
      "Total Number of rows in train: 381\n",
      "Total Number of rows in test: 188\n"
     ]
    },
    {
     "name": "stderr",
     "output_type": "stream",
     "text": [
      "C:\\Users\\akula\\AppData\\Local\\Temp/ipykernel_22024/2156574615.py:1: FutureWarning: In a future version of pandas all arguments of DataFrame.drop except for the argument 'labels' will be keyword-only\n",
      "  X_norm = np.array(dataset_norm.drop([\"diagnosis\"],1))\n"
     ]
    }
   ],
   "source": [
    "X_norm = np.array(dataset_norm.drop([\"diagnosis\"],1))\n",
    "X_norm  = np.delete(X_norm,0,1)\n",
    "Y1_norm  = np.array(dataset_norm[\"diagnosis\"])\n",
    "Y_norm  = np.array(conv(Y1_norm))\n",
    "split_factor = 0.67\n",
    "n_train = math.floor(split_factor * X_norm.shape[0])\n",
    "n_test = math.ceil(split_factor* X_norm.shape[0])\n",
    "X_train_norm  = X_norm [:n_train]\n",
    "Y_train_norm  = Y_norm [:n_train]\n",
    "X_test_norm  = X_norm [n_train:]\n",
    "Y_test_norm  = Y_norm [n_train:]\n",
    "print(\"Total Number of rows in train:\",X_train_norm.shape[0])\n",
    "print(\"Total Number of rows in test:\",X_test_norm.shape[0])\n"
   ]
  },
  {
   "cell_type": "markdown",
   "id": "8fb9249b",
   "metadata": {},
   "source": [
    "# PM3"
   ]
  },
  {
   "cell_type": "code",
   "execution_count": 39,
   "id": "a9f45d50",
   "metadata": {},
   "outputs": [
    {
     "data": {
      "text/plain": [
       "92.5531914893617"
      ]
     },
     "execution_count": 39,
     "metadata": {},
     "output_type": "execute_result"
    }
   ],
   "source": [
    "PM3 = Perceptron(1000)\n",
    "PM3.fit(X_train_norm,Y_train_norm)\n",
    "pred_PM3 = PM3.predict(X_test_norm)\n",
    "score = accuracycalc(pred_PM3,Y_test_norm)\n",
    "score"
   ]
  },
  {
   "cell_type": "code",
   "execution_count": 40,
   "id": "0041aca3",
   "metadata": {},
   "outputs": [
    {
     "name": "stdout",
     "output_type": "stream",
     "text": [
      "it  =  1\n",
      "Total Number of rows in train: 227\n",
      "Total Number of rows in test: 342\n",
      "it  =  2\n",
      "Total Number of rows in train: 256\n",
      "Total Number of rows in test: 313\n",
      "it  =  3\n",
      "Total Number of rows in train: 284\n",
      "Total Number of rows in test: 285\n",
      "it  =  4\n",
      "Total Number of rows in train: 312\n",
      "Total Number of rows in test: 257\n",
      "it  =  5\n",
      "Total Number of rows in train: 341\n",
      "Total Number of rows in test: 228\n",
      "it  =  6\n",
      "Total Number of rows in train: 369\n",
      "Total Number of rows in test: 200\n",
      "it  =  7\n",
      "Total Number of rows in train: 381\n",
      "Total Number of rows in test: 188\n",
      "it  =  8\n",
      "Total Number of rows in train: 398\n",
      "Total Number of rows in test: 171\n",
      "it  =  9\n",
      "Total Number of rows in train: 426\n",
      "Total Number of rows in test: 143\n",
      "it  =  10\n",
      "Total Number of rows in train: 455\n",
      "Total Number of rows in test: 114\n",
      "Accuracy of split- 0\n",
      "95.32163742690058\n",
      "Accuracy of split- 1\n",
      "95.84664536741214\n",
      "Accuracy of split- 2\n",
      "95.08771929824562\n",
      "Accuracy of split- 3\n",
      "93.3852140077821\n",
      "Accuracy of split- 4\n",
      "93.85964912280701\n",
      "Accuracy of split- 5\n",
      "92.5\n",
      "Accuracy of split- 6\n",
      "92.5531914893617\n",
      "Accuracy of split- 7\n",
      "91.81286549707602\n",
      "Accuracy of split- 8\n",
      "95.1048951048951\n",
      "Accuracy of split- 9\n",
      "94.73684210526315\n"
     ]
    }
   ],
   "source": [
    "iteration_PM3 = []\n",
    "count =1\n",
    "for split_factor in [0.4,0.45,0.5,0.55,0.6,0.65,0.67,0.7,0.75,0.8]:\n",
    "    n_train = math.floor(split_factor * X_norm.shape[0])\n",
    "    n_test = math.ceil(split_factor* X_norm.shape[0])\n",
    "    X_train_norm  = X_norm [:n_train]\n",
    "    Y_train_norm  = Y_norm [:n_train]\n",
    "    X_test_norm  = X_norm [n_train:]\n",
    "    Y_test_norm  = Y_norm [n_train:]\n",
    "    print(\"it  = \", count)\n",
    "    print(\"Total Number of rows in train:\",X_train_norm.shape[0])\n",
    "    print(\"Total Number of rows in test:\",X_test_norm.shape[0])\n",
    "    PM3 = Perceptron(1000)\n",
    "    PM3.fit(X_train_norm,Y_train_norm)\n",
    "    pred_PM3 = PM3.predict(X_test_norm)\n",
    "    score = accuracycalc(pred_PM3,Y_test_norm)\n",
    "    iteration_PM3.append(score)\n",
    "    count = count+1\n",
    "iteration_print(iteration_PM3)\n"
   ]
  },
  {
   "cell_type": "code",
   "execution_count": 41,
   "id": "fc67580d",
   "metadata": {},
   "outputs": [
    {
     "name": "stdout",
     "output_type": "stream",
     "text": [
      "Total Number of rows in train: 381\n",
      "Total Number of rows in test: 188\n"
     ]
    },
    {
     "name": "stderr",
     "output_type": "stream",
     "text": [
      "C:\\Users\\akula\\AppData\\Local\\Temp/ipykernel_22024/4157430246.py:1: FutureWarning: In a future version of pandas all arguments of DataFrame.drop except for the argument 'labels' will be keyword-only\n",
      "  X_4 = np.array(dataset.drop([\"diagnosis\"],1))\n"
     ]
    }
   ],
   "source": [
    "X_4 = np.array(dataset.drop([\"diagnosis\"],1))\n",
    "X_4  = np.delete(X_4,0,1)\n",
    "X_4 = np.transpose(X_4)\n",
    "np.random.shuffle(X_4)\n",
    "X_4 = np.transpose(X_4)\n",
    "\n",
    "Y1_4  = np.array(dataset[\"diagnosis\"])\n",
    "Y_4  = np.array(conv(Y1_4))\n",
    "split_factor = 0.67\n",
    "n_train = math.floor(split_factor * X_4.shape[0])\n",
    "n_test = math.ceil(split_factor* X_4.shape[0])\n",
    "X_train_4  = X_4 [:n_train]\n",
    "Y_train_4  = Y_4 [:n_train]\n",
    "X_test_4  = X_4 [n_train:]\n",
    "Y_test_4  = Y_4 [n_train:]\n",
    "print(\"Total Number of rows in train:\",X_train_4.shape[0])\n",
    "print(\"Total Number of rows in test:\",X_test_4.shape[0])\n"
   ]
  },
  {
   "cell_type": "markdown",
   "id": "c8afd0c8",
   "metadata": {},
   "source": [
    "# PM4"
   ]
  },
  {
   "cell_type": "code",
   "execution_count": 42,
   "id": "9a6b7232",
   "metadata": {},
   "outputs": [
    {
     "data": {
      "text/plain": [
       "84.04255319148936"
      ]
     },
     "execution_count": 42,
     "metadata": {},
     "output_type": "execute_result"
    }
   ],
   "source": [
    "\n",
    "\n",
    "PM4 = Perceptron(1000)\n",
    "PM4.fit(X_train_4,Y_train_4)\n",
    "pred_PM4 = PM4.predict(X_test_4)\n",
    "score = accuracycalc(pred_PM4,Y_test_4)\n",
    "score"
   ]
  },
  {
   "cell_type": "code",
   "execution_count": 43,
   "id": "0d808ae4",
   "metadata": {},
   "outputs": [
    {
     "name": "stdout",
     "output_type": "stream",
     "text": [
      "it  =  1\n",
      "Total Number of rows in train: 227\n",
      "Total Number of rows in test: 342\n",
      "it  =  2\n",
      "Total Number of rows in train: 256\n",
      "Total Number of rows in test: 313\n",
      "it  =  3\n",
      "Total Number of rows in train: 284\n",
      "Total Number of rows in test: 285\n",
      "it  =  4\n",
      "Total Number of rows in train: 312\n",
      "Total Number of rows in test: 257\n",
      "it  =  5\n",
      "Total Number of rows in train: 341\n",
      "Total Number of rows in test: 228\n",
      "it  =  6\n",
      "Total Number of rows in train: 369\n",
      "Total Number of rows in test: 200\n",
      "it  =  7\n",
      "Total Number of rows in train: 381\n",
      "Total Number of rows in test: 188\n",
      "it  =  8\n",
      "Total Number of rows in train: 398\n",
      "Total Number of rows in test: 171\n",
      "it  =  9\n",
      "Total Number of rows in train: 426\n",
      "Total Number of rows in test: 143\n",
      "it  =  10\n",
      "Total Number of rows in train: 455\n",
      "Total Number of rows in test: 114\n",
      "Accuracy of split- 0\n",
      "92.10526315789474\n",
      "Accuracy of split- 1\n",
      "79.87220447284345\n",
      "Accuracy of split- 2\n",
      "77.54385964912281\n",
      "Accuracy of split- 3\n",
      "94.94163424124513\n",
      "Accuracy of split- 4\n",
      "93.85964912280701\n",
      "Accuracy of split- 5\n",
      "89.0\n",
      "Accuracy of split- 6\n",
      "84.04255319148936\n",
      "Accuracy of split- 7\n",
      "94.73684210526315\n",
      "Accuracy of split- 8\n",
      "93.7062937062937\n",
      "Accuracy of split- 9\n",
      "93.85964912280701\n"
     ]
    }
   ],
   "source": [
    "iteration_PM4 = []\n",
    "count =1\n",
    "for split_factor in [0.4,0.45,0.5,0.55,0.6,0.65,0.67,0.7,0.75,0.8]:\n",
    "    n_train = math.floor(split_factor * X_4.shape[0])\n",
    "    n_test = math.ceil(split_factor* X_4.shape[0])\n",
    "    X_train_4  = X_4 [:n_train]\n",
    "    Y_train_4  = Y_4 [:n_train]\n",
    "    X_test_4  = X_4 [n_train:]\n",
    "    Y_test_4  = Y_4 [n_train:]\n",
    "    print(\"it  = \", count)\n",
    "    print(\"Total Number of rows in train:\",X_train_4.shape[0])\n",
    "    print(\"Total Number of rows in test:\",X_test_4.shape[0])\n",
    "    PM4 = Perceptron(1000)\n",
    "    PM4.fit(X_train_4,Y_train_4)\n",
    "    pred_PM4 = PM4.predict(X_test_4)\n",
    "    score = accuracycalc(pred_PM4,Y_test_4)\n",
    "    iteration_PM4.append(score)\n",
    "    count = count+1\n",
    "iteration_print(iteration_PM4)\n"
   ]
  }
 ],
 "metadata": {
  "kernelspec": {
   "display_name": "Python 3 (ipykernel)",
   "language": "python",
   "name": "python3"
  },
  "language_info": {
   "codemirror_mode": {
    "name": "ipython",
    "version": 3
   },
   "file_extension": ".py",
   "mimetype": "text/x-python",
   "name": "python",
   "nbconvert_exporter": "python",
   "pygments_lexer": "ipython3",
   "version": "3.9.7"
  }
 },
 "nbformat": 4,
 "nbformat_minor": 5
}
